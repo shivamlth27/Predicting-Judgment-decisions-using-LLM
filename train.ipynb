{
 "cells": [
  {
   "cell_type": "code",
   "execution_count": 1,
   "metadata": {},
   "outputs": [],
   "source": [
    "import pandas as pd \n",
    "import numpy as np "
   ]
  },
  {
   "cell_type": "code",
   "execution_count": 4,
   "metadata": {},
   "outputs": [
    {
     "name": "stderr",
     "output_type": "stream",
     "text": [
      "WARNING: Skipping C:\\Users\\Ayush\\apython\\envs\\gpu\\Lib\\site-packages\\pandas-2.2.1.dist-info due to invalid metadata entry 'name'\n",
      "WARNING: Skipping C:\\Users\\Ayush\\apython\\envs\\gpu\\Lib\\site-packages\\pandas-2.2.1.dist-info due to invalid metadata entry 'name'\n",
      "WARNING: Skipping C:\\Users\\Ayush\\apython\\envs\\gpu\\Lib\\site-packages\\pandas-2.2.1.dist-info due to invalid metadata entry 'name'\n",
      "WARNING: Skipping C:\\Users\\Ayush\\apython\\envs\\gpu\\Lib\\site-packages\\pandas-2.2.1.dist-info due to invalid metadata entry 'name'\n",
      "WARNING: Skipping C:\\Users\\Ayush\\apython\\envs\\gpu\\Lib\\site-packages\\pandas-2.2.1.dist-info due to invalid metadata entry 'name'\n",
      "WARNING: Skipping C:\\Users\\Ayush\\apython\\envs\\gpu\\Lib\\site-packages\\pandas-2.2.1.dist-info due to invalid metadata entry 'name'\n"
     ]
    },
    {
     "name": "stdout",
     "output_type": "stream",
     "text": [
      "Collecting transformers==4.31\n",
      "  Using cached transformers-4.31.0-py3-none-any.whl.metadata (116 kB)\n",
      "Requirement already satisfied: filelock in c:\\users\\ayush\\apython\\envs\\gpu\\lib\\site-packages (from transformers==4.31) (3.13.1)\n",
      "Requirement already satisfied: huggingface-hub<1.0,>=0.14.1 in c:\\users\\ayush\\apython\\envs\\gpu\\lib\\site-packages (from transformers==4.31) (0.26.1)\n",
      "Requirement already satisfied: numpy>=1.17 in c:\\users\\ayush\\apython\\envs\\gpu\\lib\\site-packages (from transformers==4.31) (1.26.4)\n",
      "Requirement already satisfied: packaging>=20.0 in c:\\users\\ayush\\apython\\envs\\gpu\\lib\\site-packages (from transformers==4.31) (23.1)\n",
      "Requirement already satisfied: pyyaml>=5.1 in c:\\users\\ayush\\apython\\envs\\gpu\\lib\\site-packages (from transformers==4.31) (6.0.1)\n",
      "Requirement already satisfied: regex!=2019.12.17 in c:\\users\\ayush\\apython\\envs\\gpu\\lib\\site-packages (from transformers==4.31) (2023.10.3)\n",
      "Requirement already satisfied: requests in c:\\users\\ayush\\apython\\envs\\gpu\\lib\\site-packages (from transformers==4.31) (2.32.3)\n",
      "Collecting tokenizers!=0.11.3,<0.14,>=0.11.1 (from transformers==4.31)\n",
      "  Using cached tokenizers-0.13.3.tar.gz (314 kB)\n",
      "  Installing build dependencies: started\n",
      "  Installing build dependencies: finished with status 'done'\n",
      "  Getting requirements to build wheel: started\n",
      "  Getting requirements to build wheel: finished with status 'done'\n",
      "  Preparing metadata (pyproject.toml): started\n",
      "  Preparing metadata (pyproject.toml): finished with status 'done'\n",
      "Requirement already satisfied: safetensors>=0.3.1 in c:\\users\\ayush\\apython\\envs\\gpu\\lib\\site-packages (from transformers==4.31) (0.4.5)\n",
      "Requirement already satisfied: tqdm>=4.27 in c:\\users\\ayush\\apython\\envs\\gpu\\lib\\site-packages (from transformers==4.31) (4.66.5)\n",
      "Requirement already satisfied: fsspec>=2023.5.0 in c:\\users\\ayush\\apython\\envs\\gpu\\lib\\site-packages (from huggingface-hub<1.0,>=0.14.1->transformers==4.31) (2024.9.0)\n",
      "Requirement already satisfied: typing-extensions>=3.7.4.3 in c:\\users\\ayush\\apython\\envs\\gpu\\lib\\site-packages (from huggingface-hub<1.0,>=0.14.1->transformers==4.31) (4.9.0)\n",
      "Requirement already satisfied: colorama in c:\\users\\ayush\\appdata\\roaming\\python\\python312\\site-packages (from tqdm>=4.27->transformers==4.31) (0.4.6)\n",
      "Requirement already satisfied: charset-normalizer<4,>=2 in c:\\users\\ayush\\apython\\envs\\gpu\\lib\\site-packages (from requests->transformers==4.31) (2.0.4)\n",
      "Requirement already satisfied: idna<4,>=2.5 in c:\\users\\ayush\\apython\\envs\\gpu\\lib\\site-packages (from requests->transformers==4.31) (3.4)\n",
      "Requirement already satisfied: urllib3<3,>=1.21.1 in c:\\users\\ayush\\apython\\envs\\gpu\\lib\\site-packages (from requests->transformers==4.31) (2.1.0)\n",
      "Requirement already satisfied: certifi>=2017.4.17 in c:\\users\\ayush\\apython\\envs\\gpu\\lib\\site-packages (from requests->transformers==4.31) (2024.8.30)\n",
      "Using cached transformers-4.31.0-py3-none-any.whl (7.4 MB)\n",
      "Building wheels for collected packages: tokenizers\n",
      "  Building wheel for tokenizers (pyproject.toml): started\n",
      "  Building wheel for tokenizers (pyproject.toml): finished with status 'error'\n",
      "Failed to build tokenizers\n"
     ]
    },
    {
     "name": "stderr",
     "output_type": "stream",
     "text": [
      "WARNING: Skipping C:\\Users\\Ayush\\apython\\envs\\gpu\\Lib\\site-packages\\pandas-2.2.1.dist-info due to invalid metadata entry 'name'\n",
      "WARNING: Skipping C:\\Users\\Ayush\\apython\\envs\\gpu\\Lib\\site-packages\\pandas-2.2.1.dist-info due to invalid metadata entry 'name'\n",
      "  error: subprocess-exited-with-error\n",
      "  \n",
      "  × Building wheel for tokenizers (pyproject.toml) did not run successfully.\n",
      "  │ exit code: 1\n",
      "  ╰─> [49 lines of output]\n",
      "      running bdist_wheel\n",
      "      running build\n",
      "      running build_py\n",
      "      creating build\\lib.win-amd64-cpython-312\\tokenizers\n",
      "      copying py_src\\tokenizers\\__init__.py -> build\\lib.win-amd64-cpython-312\\tokenizers\n",
      "      creating build\\lib.win-amd64-cpython-312\\tokenizers\\models\n",
      "      copying py_src\\tokenizers\\models\\__init__.py -> build\\lib.win-amd64-cpython-312\\tokenizers\\models\n",
      "      creating build\\lib.win-amd64-cpython-312\\tokenizers\\decoders\n",
      "      copying py_src\\tokenizers\\decoders\\__init__.py -> build\\lib.win-amd64-cpython-312\\tokenizers\\decoders\n",
      "      creating build\\lib.win-amd64-cpython-312\\tokenizers\\normalizers\n",
      "      copying py_src\\tokenizers\\normalizers\\__init__.py -> build\\lib.win-amd64-cpython-312\\tokenizers\\normalizers\n",
      "      creating build\\lib.win-amd64-cpython-312\\tokenizers\\pre_tokenizers\n",
      "      copying py_src\\tokenizers\\pre_tokenizers\\__init__.py -> build\\lib.win-amd64-cpython-312\\tokenizers\\pre_tokenizers\n",
      "      creating build\\lib.win-amd64-cpython-312\\tokenizers\\processors\n",
      "      copying py_src\\tokenizers\\processors\\__init__.py -> build\\lib.win-amd64-cpython-312\\tokenizers\\processors\n",
      "      creating build\\lib.win-amd64-cpython-312\\tokenizers\\trainers\n",
      "      copying py_src\\tokenizers\\trainers\\__init__.py -> build\\lib.win-amd64-cpython-312\\tokenizers\\trainers\n",
      "      creating build\\lib.win-amd64-cpython-312\\tokenizers\\implementations\n",
      "      copying py_src\\tokenizers\\implementations\\base_tokenizer.py -> build\\lib.win-amd64-cpython-312\\tokenizers\\implementations\n",
      "      copying py_src\\tokenizers\\implementations\\bert_wordpiece.py -> build\\lib.win-amd64-cpython-312\\tokenizers\\implementations\n",
      "      copying py_src\\tokenizers\\implementations\\byte_level_bpe.py -> build\\lib.win-amd64-cpython-312\\tokenizers\\implementations\n",
      "      copying py_src\\tokenizers\\implementations\\char_level_bpe.py -> build\\lib.win-amd64-cpython-312\\tokenizers\\implementations\n",
      "      copying py_src\\tokenizers\\implementations\\sentencepiece_bpe.py -> build\\lib.win-amd64-cpython-312\\tokenizers\\implementations\n",
      "      copying py_src\\tokenizers\\implementations\\sentencepiece_unigram.py -> build\\lib.win-amd64-cpython-312\\tokenizers\\implementations\n",
      "      copying py_src\\tokenizers\\implementations\\__init__.py -> build\\lib.win-amd64-cpython-312\\tokenizers\\implementations\n",
      "      creating build\\lib.win-amd64-cpython-312\\tokenizers\\tools\n",
      "      copying py_src\\tokenizers\\tools\\visualizer.py -> build\\lib.win-amd64-cpython-312\\tokenizers\\tools\n",
      "      copying py_src\\tokenizers\\tools\\__init__.py -> build\\lib.win-amd64-cpython-312\\tokenizers\\tools\n",
      "      copying py_src\\tokenizers\\__init__.pyi -> build\\lib.win-amd64-cpython-312\\tokenizers\n",
      "      copying py_src\\tokenizers\\models\\__init__.pyi -> build\\lib.win-amd64-cpython-312\\tokenizers\\models\n",
      "      copying py_src\\tokenizers\\decoders\\__init__.pyi -> build\\lib.win-amd64-cpython-312\\tokenizers\\decoders\n",
      "      copying py_src\\tokenizers\\normalizers\\__init__.pyi -> build\\lib.win-amd64-cpython-312\\tokenizers\\normalizers\n",
      "      copying py_src\\tokenizers\\pre_tokenizers\\__init__.pyi -> build\\lib.win-amd64-cpython-312\\tokenizers\\pre_tokenizers\n",
      "      copying py_src\\tokenizers\\processors\\__init__.pyi -> build\\lib.win-amd64-cpython-312\\tokenizers\\processors\n",
      "      copying py_src\\tokenizers\\trainers\\__init__.pyi -> build\\lib.win-amd64-cpython-312\\tokenizers\\trainers\n",
      "      copying py_src\\tokenizers\\tools\\visualizer-styles.css -> build\\lib.win-amd64-cpython-312\\tokenizers\\tools\n",
      "      running build_ext\n",
      "      running build_rust\n",
      "      error: can't find Rust compiler\n",
      "      \n",
      "      If you are using an outdated pip version, it is possible a prebuilt wheel is available for this package but pip is not able to install from it. Installing from the wheel would avoid the need for a Rust compiler.\n",
      "      \n",
      "      To update pip, run:\n",
      "      \n",
      "          pip install --upgrade pip\n",
      "      \n",
      "      and then retry package installation.\n",
      "      \n",
      "      If you did intend to build this package from source, try installing a Rust compiler from your system package manager and ensure it is on the PATH during installation. Alternatively, rustup (available at https://rustup.rs) is the recommended way to download and update the Rust compiler toolchain.\n",
      "      [end of output]\n",
      "  \n",
      "  note: This error originates from a subprocess, and is likely not a problem with pip.\n",
      "  ERROR: Failed building wheel for tokenizers\n",
      "ERROR: Could not build wheels for tokenizers, which is required to install pyproject.toml-based projects\n",
      "WARNING: Skipping C:\\Users\\Ayush\\apython\\envs\\gpu\\Lib\\site-packages\\pandas-2.2.1.dist-info due to invalid metadata entry 'name'\n",
      "WARNING: Skipping C:\\Users\\Ayush\\apython\\envs\\gpu\\Lib\\site-packages\\pandas-2.2.1.dist-info due to invalid metadata entry 'name'\n",
      "WARNING: Skipping C:\\Users\\Ayush\\apython\\envs\\gpu\\Lib\\site-packages\\pandas-2.2.1.dist-info due to invalid metadata entry 'name'\n",
      "WARNING: Skipping C:\\Users\\Ayush\\apython\\envs\\gpu\\Lib\\site-packages\\pandas-2.2.1.dist-info due to invalid metadata entry 'name'\n",
      "WARNING: Skipping C:\\Users\\Ayush\\apython\\envs\\gpu\\Lib\\site-packages\\pandas-2.2.1.dist-info due to invalid metadata entry 'name'\n",
      "WARNING: Skipping C:\\Users\\Ayush\\apython\\envs\\gpu\\Lib\\site-packages\\pandas-2.2.1.dist-info due to invalid metadata entry 'name'\n",
      "WARNING: Skipping C:\\Users\\Ayush\\apython\\envs\\gpu\\Lib\\site-packages\\pandas-2.2.1.dist-info due to invalid metadata entry 'name'\n",
      "WARNING: Skipping C:\\Users\\Ayush\\apython\\envs\\gpu\\Lib\\site-packages\\pandas-2.2.1.dist-info due to invalid metadata entry 'name'\n",
      "WARNING: Skipping C:\\Users\\Ayush\\apython\\envs\\gpu\\Lib\\site-packages\\pandas-2.2.1.dist-info due to invalid metadata entry 'name'\n",
      "WARNING: Skipping C:\\Users\\Ayush\\apython\\envs\\gpu\\Lib\\site-packages\\pandas-2.2.1.dist-info due to invalid metadata entry 'name'\n",
      "WARNING: Skipping C:\\Users\\Ayush\\apython\\envs\\gpu\\Lib\\site-packages\\pandas-2.2.1.dist-info due to invalid metadata entry 'name'\n",
      "WARNING: Skipping C:\\Users\\Ayush\\apython\\envs\\gpu\\Lib\\site-packages\\pandas-2.2.1.dist-info due to invalid metadata entry 'name'\n",
      "WARNING: Skipping C:\\Users\\Ayush\\apython\\envs\\gpu\\Lib\\site-packages\\pandas-2.2.1.dist-info due to invalid metadata entry 'name'\n",
      "WARNING: Skipping C:\\Users\\Ayush\\apython\\envs\\gpu\\Lib\\site-packages\\pandas-2.2.1.dist-info due to invalid metadata entry 'name'\n",
      "WARNING: Skipping C:\\Users\\Ayush\\apython\\envs\\gpu\\Lib\\site-packages\\pandas-2.2.1.dist-info due to invalid metadata entry 'name'\n",
      "WARNING: Skipping C:\\Users\\Ayush\\apython\\envs\\gpu\\Lib\\site-packages\\pandas-2.2.1.dist-info due to invalid metadata entry 'name'\n",
      "WARNING: Skipping C:\\Users\\Ayush\\apython\\envs\\gpu\\Lib\\site-packages\\pandas-2.2.1.dist-info due to invalid metadata entry 'name'\n",
      "WARNING: Skipping C:\\Users\\Ayush\\apython\\envs\\gpu\\Lib\\site-packages\\pandas-2.2.1.dist-info due to invalid metadata entry 'name'\n",
      "WARNING: Skipping C:\\Users\\Ayush\\apython\\envs\\gpu\\Lib\\site-packages\\pandas-2.2.1.dist-info due to invalid metadata entry 'name'\n",
      "WARNING: Skipping C:\\Users\\Ayush\\apython\\envs\\gpu\\Lib\\site-packages\\pandas-2.2.1.dist-info due to invalid metadata entry 'name'\n",
      "WARNING: Skipping C:\\Users\\Ayush\\apython\\envs\\gpu\\Lib\\site-packages\\pandas-2.2.1.dist-info due to invalid metadata entry 'name'\n"
     ]
    },
    {
     "name": "stdout",
     "output_type": "stream",
     "text": [
      "Requirement already satisfied: evaluate in c:\\users\\ayush\\apython\\envs\\gpu\\lib\\site-packages (0.4.3)\n",
      "Requirement already satisfied: datasets>=2.0.0 in c:\\users\\ayush\\apython\\envs\\gpu\\lib\\site-packages (from evaluate) (3.1.0)\n",
      "Requirement already satisfied: numpy>=1.17 in c:\\users\\ayush\\apython\\envs\\gpu\\lib\\site-packages (from evaluate) (1.26.4)\n",
      "Requirement already satisfied: dill in c:\\users\\ayush\\apython\\envs\\gpu\\lib\\site-packages (from evaluate) (0.3.8)\n",
      "Requirement already satisfied: pandas in c:\\users\\ayush\\apython\\envs\\gpu\\lib\\site-packages (from evaluate) (2.2.3)\n",
      "Requirement already satisfied: requests>=2.19.0 in c:\\users\\ayush\\apython\\envs\\gpu\\lib\\site-packages (from evaluate) (2.32.3)\n",
      "Requirement already satisfied: tqdm>=4.62.1 in c:\\users\\ayush\\apython\\envs\\gpu\\lib\\site-packages (from evaluate) (4.66.5)\n",
      "Requirement already satisfied: xxhash in c:\\users\\ayush\\apython\\envs\\gpu\\lib\\site-packages (from evaluate) (3.5.0)\n",
      "Requirement already satisfied: multiprocess in c:\\users\\ayush\\apython\\envs\\gpu\\lib\\site-packages (from evaluate) (0.70.16)\n",
      "Requirement already satisfied: fsspec>=2021.05.0 in c:\\users\\ayush\\apython\\envs\\gpu\\lib\\site-packages (from fsspec[http]>=2021.05.0->evaluate) (2024.9.0)\n",
      "Requirement already satisfied: huggingface-hub>=0.7.0 in c:\\users\\ayush\\apython\\envs\\gpu\\lib\\site-packages (from evaluate) (0.26.1)\n",
      "Requirement already satisfied: packaging in c:\\users\\ayush\\apython\\envs\\gpu\\lib\\site-packages (from evaluate) (23.1)\n",
      "Requirement already satisfied: filelock in c:\\users\\ayush\\apython\\envs\\gpu\\lib\\site-packages (from datasets>=2.0.0->evaluate) (3.13.1)\n",
      "Requirement already satisfied: pyarrow>=15.0.0 in c:\\users\\ayush\\apython\\envs\\gpu\\lib\\site-packages (from datasets>=2.0.0->evaluate) (15.0.1)\n",
      "Requirement already satisfied: aiohttp in c:\\users\\ayush\\apython\\envs\\gpu\\lib\\site-packages (from datasets>=2.0.0->evaluate) (3.10.10)\n",
      "Requirement already satisfied: pyyaml>=5.1 in c:\\users\\ayush\\apython\\envs\\gpu\\lib\\site-packages (from datasets>=2.0.0->evaluate) (6.0.1)\n",
      "Requirement already satisfied: typing-extensions>=3.7.4.3 in c:\\users\\ayush\\apython\\envs\\gpu\\lib\\site-packages (from huggingface-hub>=0.7.0->evaluate) (4.9.0)\n",
      "Requirement already satisfied: charset-normalizer<4,>=2 in c:\\users\\ayush\\apython\\envs\\gpu\\lib\\site-packages (from requests>=2.19.0->evaluate) (2.0.4)\n",
      "Requirement already satisfied: idna<4,>=2.5 in c:\\users\\ayush\\apython\\envs\\gpu\\lib\\site-packages (from requests>=2.19.0->evaluate) (3.4)\n",
      "Requirement already satisfied: urllib3<3,>=1.21.1 in c:\\users\\ayush\\apython\\envs\\gpu\\lib\\site-packages (from requests>=2.19.0->evaluate) (2.1.0)\n",
      "Requirement already satisfied: certifi>=2017.4.17 in c:\\users\\ayush\\apython\\envs\\gpu\\lib\\site-packages (from requests>=2.19.0->evaluate) (2024.8.30)\n",
      "Requirement already satisfied: colorama in c:\\users\\ayush\\appdata\\roaming\\python\\python312\\site-packages (from tqdm>=4.62.1->evaluate) (0.4.6)\n",
      "Requirement already satisfied: python-dateutil>=2.8.2 in c:\\users\\ayush\\apython\\envs\\gpu\\lib\\site-packages (from pandas->evaluate) (2.9.0)\n",
      "Requirement already satisfied: pytz>=2020.1 in c:\\users\\ayush\\apython\\envs\\gpu\\lib\\site-packages (from pandas->evaluate) (2024.1)\n",
      "Requirement already satisfied: tzdata>=2022.7 in c:\\users\\ayush\\apython\\envs\\gpu\\lib\\site-packages (from pandas->evaluate) (2024.1)\n",
      "Requirement already satisfied: aiohappyeyeballs>=2.3.0 in c:\\users\\ayush\\apython\\envs\\gpu\\lib\\site-packages (from aiohttp->datasets>=2.0.0->evaluate) (2.4.3)\n",
      "Requirement already satisfied: aiosignal>=1.1.2 in c:\\users\\ayush\\apython\\envs\\gpu\\lib\\site-packages (from aiohttp->datasets>=2.0.0->evaluate) (1.3.1)\n",
      "Requirement already satisfied: attrs>=17.3.0 in c:\\users\\ayush\\apython\\envs\\gpu\\lib\\site-packages (from aiohttp->datasets>=2.0.0->evaluate) (23.2.0)\n",
      "Requirement already satisfied: frozenlist>=1.1.1 in c:\\users\\ayush\\apython\\envs\\gpu\\lib\\site-packages (from aiohttp->datasets>=2.0.0->evaluate) (1.5.0)\n",
      "Requirement already satisfied: multidict<7.0,>=4.5 in c:\\users\\ayush\\apython\\envs\\gpu\\lib\\site-packages (from aiohttp->datasets>=2.0.0->evaluate) (6.1.0)\n",
      "Requirement already satisfied: yarl<2.0,>=1.12.0 in c:\\users\\ayush\\apython\\envs\\gpu\\lib\\site-packages (from aiohttp->datasets>=2.0.0->evaluate) (1.16.0)\n",
      "Requirement already satisfied: six>=1.5 in c:\\users\\ayush\\apython\\envs\\gpu\\lib\\site-packages (from python-dateutil>=2.8.2->pandas->evaluate) (1.16.0)\n",
      "Requirement already satisfied: propcache>=0.2.0 in c:\\users\\ayush\\apython\\envs\\gpu\\lib\\site-packages (from yarl<2.0,>=1.12.0->aiohttp->datasets>=2.0.0->evaluate) (0.2.0)\n"
     ]
    },
    {
     "name": "stderr",
     "output_type": "stream",
     "text": [
      "WARNING: Skipping C:\\Users\\Ayush\\apython\\envs\\gpu\\Lib\\site-packages\\pandas-2.2.1.dist-info due to invalid metadata entry 'name'\n",
      "WARNING: Skipping C:\\Users\\Ayush\\apython\\envs\\gpu\\Lib\\site-packages\\pandas-2.2.1.dist-info due to invalid metadata entry 'name'\n",
      "WARNING: Skipping C:\\Users\\Ayush\\apython\\envs\\gpu\\Lib\\site-packages\\pandas-2.2.1.dist-info due to invalid metadata entry 'name'\n",
      "WARNING: Skipping C:\\Users\\Ayush\\apython\\envs\\gpu\\Lib\\site-packages\\pandas-2.2.1.dist-info due to invalid metadata entry 'name'\n",
      "WARNING: Skipping C:\\Users\\Ayush\\apython\\envs\\gpu\\Lib\\site-packages\\pandas-2.2.1.dist-info due to invalid metadata entry 'name'\n",
      "WARNING: Skipping C:\\Users\\Ayush\\apython\\envs\\gpu\\Lib\\site-packages\\pandas-2.2.1.dist-info due to invalid metadata entry 'name'\n"
     ]
    }
   ],
   "source": [
    "! pip install -q -U bitsandbytes\n",
    "# ! pip install -q -U git+https://github.com/huggingface/transformers.git\n",
    "! pip install transformers==4.31\n",
    "! pip install -q -U git+https://github.com/huggingface/peft.git\n",
    "! pip install -q -U git+https://github.com/huggingface/accelerate.git\n",
    "! pip install -q datasets\n",
    "! pip install evaluate\n",
    "! pip install -qqq trl==0.7.1"
   ]
  },
  {
   "cell_type": "code",
   "execution_count": 1,
   "metadata": {},
   "outputs": [],
   "source": [
    "import pandas as pd"
   ]
  },
  {
   "cell_type": "code",
   "execution_count": 3,
   "metadata": {},
   "outputs": [],
   "source": [
    "df= pd.read_csv(\"datasets/train_ft.csv\")"
   ]
  },
  {
   "cell_type": "code",
   "execution_count": null,
   "metadata": {},
   "outputs": [],
   "source": []
  },
  {
   "cell_type": "code",
   "execution_count": 4,
   "metadata": {},
   "outputs": [
    {
     "data": {
      "text/html": [
       "<div>\n",
       "<style scoped>\n",
       "    .dataframe tbody tr th:only-of-type {\n",
       "        vertical-align: middle;\n",
       "    }\n",
       "\n",
       "    .dataframe tbody tr th {\n",
       "        vertical-align: top;\n",
       "    }\n",
       "\n",
       "    .dataframe thead th {\n",
       "        text-align: right;\n",
       "    }\n",
       "</style>\n",
       "<table border=\"1\" class=\"dataframe\">\n",
       "  <thead>\n",
       "    <tr style=\"text-align: right;\">\n",
       "      <th></th>\n",
       "      <th>Case Name</th>\n",
       "      <th>Input</th>\n",
       "      <th>Output</th>\n",
       "      <th>Label</th>\n",
       "      <th>Count</th>\n",
       "      <th>Decision_Count</th>\n",
       "      <th>text</th>\n",
       "    </tr>\n",
       "  </thead>\n",
       "  <tbody>\n",
       "    <tr>\n",
       "      <th>0</th>\n",
       "      <td>KAMLESH Vs. UNION OF INDIA THROUGH SECRETARY, ...</td>\n",
       "      <td>30.3.92 after noon regular appoint is made. Mi...</td>\n",
       "      <td>0[ds]7. It is clear from the order of appointm...</td>\n",
       "      <td>0</td>\n",
       "      <td>1253</td>\n",
       "      <td>564</td>\n",
       "      <td>### Instruction:\\nForecast the likely verdict ...</td>\n",
       "    </tr>\n",
       "    <tr>\n",
       "      <th>1</th>\n",
       "      <td>KANWAR PAL SINGH Vs. THE STATE OF UTTAR PRADESH</td>\n",
       "      <td>raised by the appellant in the written submiss...</td>\n",
       "      <td>1[ds]5. We find the submission of the appellan...</td>\n",
       "      <td>1</td>\n",
       "      <td>4065</td>\n",
       "      <td>2268</td>\n",
       "      <td>### Instruction:\\nFirst, predict whether the a...</td>\n",
       "    </tr>\n",
       "    <tr>\n",
       "      <th>2</th>\n",
       "      <td>Manke Ram Vs. State of Haryana</td>\n",
       "      <td>appellant in this case is that even if the pro...</td>\n",
       "      <td>1[ds]6. Having perused the material on record ...</td>\n",
       "      <td>1</td>\n",
       "      <td>1616</td>\n",
       "      <td>708</td>\n",
       "      <td>### Instruction:\\nDetermine the likely decisio...</td>\n",
       "    </tr>\n",
       "    <tr>\n",
       "      <th>3</th>\n",
       "      <td>Kr. Jyoti Sarup and Another Vs. Board of Reven...</td>\n",
       "      <td>and by the substantive part of sub-section (1)...</td>\n",
       "      <td>0[ds]7. We are in agreement with the view, exp...</td>\n",
       "      <td>0</td>\n",
       "      <td>2440</td>\n",
       "      <td>784</td>\n",
       "      <td>### Instruction:\\nJudge the probable resolutio...</td>\n",
       "    </tr>\n",
       "    <tr>\n",
       "      <th>4</th>\n",
       "      <td>Commissioner Of Income-Tax, Kerala Vs. Gemini ...</td>\n",
       "      <td>the true costs of trading in the particular ye...</td>\n",
       "      <td>1[ds]That case can have no application to the ...</td>\n",
       "      <td>1</td>\n",
       "      <td>3317</td>\n",
       "      <td>722</td>\n",
       "      <td>### Instruction:\\nAssess the case to predict t...</td>\n",
       "    </tr>\n",
       "  </tbody>\n",
       "</table>\n",
       "</div>"
      ],
      "text/plain": [
       "                                           Case Name  \\\n",
       "0  KAMLESH Vs. UNION OF INDIA THROUGH SECRETARY, ...   \n",
       "1    KANWAR PAL SINGH Vs. THE STATE OF UTTAR PRADESH   \n",
       "2                     Manke Ram Vs. State of Haryana   \n",
       "3  Kr. Jyoti Sarup and Another Vs. Board of Reven...   \n",
       "4  Commissioner Of Income-Tax, Kerala Vs. Gemini ...   \n",
       "\n",
       "                                               Input  \\\n",
       "0  30.3.92 after noon regular appoint is made. Mi...   \n",
       "1  raised by the appellant in the written submiss...   \n",
       "2  appellant in this case is that even if the pro...   \n",
       "3  and by the substantive part of sub-section (1)...   \n",
       "4  the true costs of trading in the particular ye...   \n",
       "\n",
       "                                              Output  Label  Count  \\\n",
       "0  0[ds]7. It is clear from the order of appointm...      0   1253   \n",
       "1  1[ds]5. We find the submission of the appellan...      1   4065   \n",
       "2  1[ds]6. Having perused the material on record ...      1   1616   \n",
       "3  0[ds]7. We are in agreement with the view, exp...      0   2440   \n",
       "4  1[ds]That case can have no application to the ...      1   3317   \n",
       "\n",
       "   Decision_Count                                               text  \n",
       "0             564  ### Instruction:\\nForecast the likely verdict ...  \n",
       "1            2268  ### Instruction:\\nFirst, predict whether the a...  \n",
       "2             708  ### Instruction:\\nDetermine the likely decisio...  \n",
       "3             784  ### Instruction:\\nJudge the probable resolutio...  \n",
       "4             722  ### Instruction:\\nAssess the case to predict t...  "
      ]
     },
     "execution_count": 4,
     "metadata": {},
     "output_type": "execute_result"
    }
   ],
   "source": [
    "df.head()"
   ]
  },
  {
   "cell_type": "code",
   "execution_count": 17,
   "metadata": {},
   "outputs": [],
   "source": [
    "df1= pd.read_csv(\"datasets/train_ft.csv\")"
   ]
  },
  {
   "cell_type": "code",
   "execution_count": 18,
   "metadata": {},
   "outputs": [
    {
     "data": {
      "text/plain": [
       "(10961, 7)"
      ]
     },
     "execution_count": 18,
     "metadata": {},
     "output_type": "execute_result"
    }
   ],
   "source": [
    "df1.shape"
   ]
  },
  {
   "cell_type": "code",
   "execution_count": 19,
   "metadata": {},
   "outputs": [],
   "source": [
    "df4= pd.read_csv(\"datasets/val_ft.csv\")"
   ]
  },
  {
   "cell_type": "code",
   "execution_count": 20,
   "metadata": {},
   "outputs": [
    {
     "data": {
      "text/plain": [
       "(1217, 7)"
      ]
     },
     "execution_count": 20,
     "metadata": {},
     "output_type": "execute_result"
    }
   ],
   "source": [
    "df4.shape"
   ]
  },
  {
   "cell_type": "code",
   "execution_count": 21,
   "metadata": {},
   "outputs": [
    {
     "data": {
      "text/plain": [
       "(3044, 6)"
      ]
     },
     "execution_count": 21,
     "metadata": {},
     "output_type": "execute_result"
    }
   ],
   "source": [
    "df2.shape"
   ]
  },
  {
   "cell_type": "code",
   "execution_count": 6,
   "metadata": {},
   "outputs": [
    {
     "data": {
      "text/html": [
       "<div>\n",
       "<style scoped>\n",
       "    .dataframe tbody tr th:only-of-type {\n",
       "        vertical-align: middle;\n",
       "    }\n",
       "\n",
       "    .dataframe tbody tr th {\n",
       "        vertical-align: top;\n",
       "    }\n",
       "\n",
       "    .dataframe thead th {\n",
       "        text-align: right;\n",
       "    }\n",
       "</style>\n",
       "<table border=\"1\" class=\"dataframe\">\n",
       "  <thead>\n",
       "    <tr style=\"text-align: right;\">\n",
       "      <th></th>\n",
       "      <th>Case Name</th>\n",
       "      <th>Input</th>\n",
       "      <th>Output</th>\n",
       "      <th>Label</th>\n",
       "      <th>Count</th>\n",
       "      <th>Decision_Count</th>\n",
       "    </tr>\n",
       "  </thead>\n",
       "  <tbody>\n",
       "    <tr>\n",
       "      <th>0</th>\n",
       "      <td>KAMLESH Vs. UNION OF INDIA THROUGH SECRETARY, ...</td>\n",
       "      <td>S. ABDUL NAZEER, J. 1. In this appeal, appella...</td>\n",
       "      <td>0[ds]7. It is clear from the order of appointm...</td>\n",
       "      <td>0</td>\n",
       "      <td>1253</td>\n",
       "      <td>564</td>\n",
       "    </tr>\n",
       "    <tr>\n",
       "      <th>1</th>\n",
       "      <td>KANWAR PAL SINGH Vs. THE STATE OF UTTAR PRADESH</td>\n",
       "      <td>SANJIV KHANNA, J. 1. Leave granted. 2. Kanwar ...</td>\n",
       "      <td>1[ds]5. We find the submission of the appellan...</td>\n",
       "      <td>1</td>\n",
       "      <td>4065</td>\n",
       "      <td>2268</td>\n",
       "    </tr>\n",
       "    <tr>\n",
       "      <th>2</th>\n",
       "      <td>Manke Ram Vs. State of Haryana</td>\n",
       "      <td>Santosh Hegde, J. 1. The incident which gives ...</td>\n",
       "      <td>1[ds]6. Having perused the material on record ...</td>\n",
       "      <td>1</td>\n",
       "      <td>1616</td>\n",
       "      <td>708</td>\n",
       "    </tr>\n",
       "    <tr>\n",
       "      <th>3</th>\n",
       "      <td>Kr. Jyoti Sarup and Another Vs. Board of Reven...</td>\n",
       "      <td>S.K. Das, J. 1. These two appeals and the conn...</td>\n",
       "      <td>0[ds]7. We are in agreement with the view, exp...</td>\n",
       "      <td>0</td>\n",
       "      <td>2440</td>\n",
       "      <td>784</td>\n",
       "    </tr>\n",
       "    <tr>\n",
       "      <th>4</th>\n",
       "      <td>Commissioner Of Income-Tax, Kerala Vs. Gemini ...</td>\n",
       "      <td>Shah, J. 1. Two persons-Walter and Ramasubramo...</td>\n",
       "      <td>1[ds]That case can have no application to the ...</td>\n",
       "      <td>1</td>\n",
       "      <td>3317</td>\n",
       "      <td>722</td>\n",
       "    </tr>\n",
       "  </tbody>\n",
       "</table>\n",
       "</div>"
      ],
      "text/plain": [
       "                                           Case Name  \\\n",
       "0  KAMLESH Vs. UNION OF INDIA THROUGH SECRETARY, ...   \n",
       "1    KANWAR PAL SINGH Vs. THE STATE OF UTTAR PRADESH   \n",
       "2                     Manke Ram Vs. State of Haryana   \n",
       "3  Kr. Jyoti Sarup and Another Vs. Board of Reven...   \n",
       "4  Commissioner Of Income-Tax, Kerala Vs. Gemini ...   \n",
       "\n",
       "                                               Input  \\\n",
       "0  S. ABDUL NAZEER, J. 1. In this appeal, appella...   \n",
       "1  SANJIV KHANNA, J. 1. Leave granted. 2. Kanwar ...   \n",
       "2  Santosh Hegde, J. 1. The incident which gives ...   \n",
       "3  S.K. Das, J. 1. These two appeals and the conn...   \n",
       "4  Shah, J. 1. Two persons-Walter and Ramasubramo...   \n",
       "\n",
       "                                              Output  Label  Count  \\\n",
       "0  0[ds]7. It is clear from the order of appointm...      0   1253   \n",
       "1  1[ds]5. We find the submission of the appellan...      1   4065   \n",
       "2  1[ds]6. Having perused the material on record ...      1   1616   \n",
       "3  0[ds]7. We are in agreement with the view, exp...      0   2440   \n",
       "4  1[ds]That case can have no application to the ...      1   3317   \n",
       "\n",
       "   Decision_Count  \n",
       "0             564  \n",
       "1            2268  \n",
       "2             708  \n",
       "3             784  \n",
       "4             722  "
      ]
     },
     "execution_count": 6,
     "metadata": {},
     "output_type": "execute_result"
    }
   ],
   "source": [
    "df1.head()"
   ]
  },
  {
   "cell_type": "code",
   "execution_count": 6,
   "metadata": {},
   "outputs": [
    {
     "data": {
      "text/plain": [
       "(3044, 6)"
      ]
     },
     "execution_count": 6,
     "metadata": {},
     "output_type": "execute_result"
    }
   ],
   "source": [
    "df2= pd.read_csv(\"datasets/test.csv\")\n",
    "df2.shape"
   ]
  },
  {
   "cell_type": "code",
   "execution_count": 5,
   "metadata": {},
   "outputs": [
    {
     "data": {
      "text/plain": [
       "'Subba Rao, J.1. These two appeals by special leave are filed against the common judgment of a Full Bench of the High Court of Judicature at Nagpur in writ petitions Nos. 22 of 1955 and 274 of 1955 filed by respondents 1, 3 to 6 herein in the said Court.2. The facts in Appeal No. 370 of 1960 may be stated first. Respondent 1, Seth Balkishan Nathani, was the proprietor and lambardar of Mouza Sonpairi in Tehsil and District Raipur. On January 14, 1947, he executed perpetual pastas in favour of his wife, Yashodabai, since deceased, and respondents 4, 5 and 6 in respect of khudkasht and grass lands of Mouza Sonpairi. In Tabdili Jamabandi of the year 1941347 the said lands were recorded as the Occupancy Tenancy Holdings of the said respondent 4 to 6 and respondent 2, Govindlal Nathani, the legal representative of Yashodabai. The same entry was found in the Jamabandis of the subsequent years. The Madhya Pradesh Abolition of Proprietary Rights (Estates, Mahals, Alienated Lands) Act, l950 (1 of 1951), hereinafter called the Act, came into force on January 22, 1951. Thereafter in due course the estate of the said proprietor was duly notified under S. 3 of the Act. On March 25, 1952, the Deputy Commissioner, Land Reforms, acting under S. 40 of the Act, recognised the said Balkishan Nathani as the pattadar and settled the assessment payable by him in respect of Khasra Nos. 289/2 and 366/7 of Mouza Sonpairi. No appeal was preferred against that order. Thereafter, appellant 2, the Nistar Officer-cum-Additional Deputy Commissioner, Raipur, started proceedings against the respondents for the correction of old annual papers in Mouza Sonpairi with a view to reopen the earlier order made under S. 40 of the Act, as the earlier order was passed on the basis of the entries found in Tabdili Jamabandi of the year 1946-47 and subsequent years. Respondent 1, Seth Balkishan Nathani, raised an objection that appellant 2 had no jurisdiction to initiate the proceedings. Appellant 2 overruled the objection and made the following order:\"On the next hearing, 5 witnesses may be produced for proving cultivation. The names of the purchasers, to whom the lands have been sold, be obtained from the Patwari and a notice he served on them that they should file their statements as well as should bring the sale-deeds along with them. Hearing fixed for date 4-8-1954. The non-applicants may file other evidence which they wish to file.\"It will be seen from the said order that the second appellant purported to make an inquiry in regard to the factum of cultivation as well as the validity of the sale-deeds whereunder respondent I created interests in the other respondents. Respondent 1 preferred an appeal from that order to the Board of Revenue, Madhya Pradesh, but the same was dismissed on the ground that it was premature. Thereupon, the respondents filed the writ petition No. 22 of 1955 in the High Court of Madhya Pradesh.3. Civil Appeal No. 371 of 1960 relates to Patti No. 1 of Mouza Kachna in Tehsil and District Raipur. Respondent 1 was the Proprietor and Lambardar of the said Mouza. On February 19, 1948, the said Seth Balkishan Nathani executed perpetual pastas in respect of the said lands in favour of the same respondents as in the other appeal. In the annual papers the said lands were recorded as the Occupancy Tenancy Holdings of respondents 2 to 6. On December 8, 1954, appellant 2 made an inspection of the said lands and made the following order on December 9, 1954:\" * * * *2. There were found to be obvious mistakes in Government documents Khasra, Jamabandi and Tabdilat, Mistakes discharged (discovered) by me in Patwari papers have been corrected.3. Ex-proprietors (I) Balkishan Nathani and others and (2) Narayanrao made absolutely bogus transfers in favour of their family members, namely(i) (a) Kamlabai, (b) Pana Bai, (c) Yashodabai, (d) Chhote Bai of Nathani family.(ii) Kamla Bai Chitnavis, wife of Narayanrao, ax-proprietor.Patwari entered names without cultivation and agricultural possession against Land Record Manual. Volume 1.4. Mistakes found in patwari records have been corrected by me after spot inspection.These papers be now filed.\"It will be seen from the said order that the second appellant found that the transfers made by respondent l in favour of the other respondents were bogus and that he also corrected the entries in the annual papers to the effect that the landlord was not cultivating the lands as recorded in the earlier papers. The respondents filed writ petition No 274 of 1905 in the High Court to quash the said order. A Full Bench of the High Court held that neither S. 15 (3) of the Act nor S. 47 (1) of the Central Provinces Land Revenue Act, 1917 (C. P. Act No. [I of 1917), hereinafter called the Land Revenue Act, conferred a power on the Nistar Officer to review orders already made in respect of the factum of cultivation or the occupancy rights recognized under the relevant provisions of the said Acts. In the result, it allowed the two writ petitions quashing the proceedings started by the Nistar Officer in the case of Mouza Sonpairi and the order, dated December 9, 1954, passed by him in the case of Mouza Kachna and prohibiting him from taking further proceedings which may affect the occupancy tenancy rights of the petitioners in the lands in dispute. Hence the two appeals.4. Mr. Sen, learned counsel for the appellants, raised before us the following two points: (1) under S. 47 (1) of the land Revenue Act, the Nistar Officer has jurisdiction to correct entries made for earlier years in a subsequent year on the ground of mistake; and (2) the said officer has also jurisdiction to review under S. 15 (3) of the Act the order made by him under S. 40 thereof.5. Mr. Pai, learned counsel for the respondents, argued at the outset that the appeals have abated for two reasons, namely, (1) the second petitioner died after the arguments were heard by the High Court and before the judgment was delivered and the petition filed by the appellants to set aside abatement was dismissed, and (2) the second respondent in the appeals died on March 7, 1956 and the application filed on June 28, 1957 to set aside the abatement and to bring his legal representatives on record was out of time. On the merits, he sought to sustain the judgment of the High Court for the reasons mentioned therein.6. As we are inclined to agree with the view expressed by the High Court on the two questions raised by the learned counsel for the appellants, we do not propose to consider the preliminary objection raised by the learned counsel for the respondents.7. The two questions raised in this case are in a way inter-related and the answer to them depends upon the construction of the relevant sections of the Act and the Land Revenue Act. It would be convenient to read the relevant provisions.The Madhya Pradesh Abolition of Proprietary Rights (Estates, Mahals Alienated Lands) Act, 1950 (Act 1 of l95l).:Section 3. (2) After the issue of a notification under sub-s. (1), no right shall be acquired in or over land to which the said notification relates, except by succession or under a grant or contract in writing made or entered into by or on behalf of the State and no fresh clearings for cultivation or for any other purpose shall he made in such land except in accordance with such rules as may be made by the State Government in this behalf.Section 4. (2) Notwithstanding anything contained in sub-s. (1), the proprietor shark continue to retain the possession of his homestead, home-farm land, and in the Central Provinces also of land brought under cultivation by him after the agricultural year 1948-49 but before the date of vesting.Section 18. (1) On receipt of the statement of claim, or if no such claim is received within the prescribed period, the Compensation Officer shall, after making such enquiry as he thinks fit and giving an opportunity to the claimant to be heard, decide the amount of compensation due to the claimant and record in a statement in the prescribed form the details of the land which shall vest in the State Government after its acquisition in lieu of the payment of such compensation and other details as may be prescribed.Section 15. (1) Any person aggrieved by the decision given or the record made under S. 13 by the Compensation Officer may appeal to the Deputy Commissioner....* * * *3. The Compensation Officer, the Deputy Commissioner or the Settlement Commissioner, may, either on his own motion or on the application filed within the prescribed period by any party interested, review an order passed by himself or his predecessors in office and pass such order in reference thereto as he thinks fit.* * * *Section 40. (as amended on October 22 1951).(1) An, land not included in homefarm but brought under cultivation by the proprietor after the agricultural year 1948-49 shal1 he held by him in the rights of an occupancy tenant.(2) Any person becoming an occupancy tenant under rule I shall be a tenant of the State.(3) The Deputy Commissioner shall determine the rent on the land and it shall be payable from the date of the vesting of the proprietary rights.Section 84. Except where the provisions of this Act provide otherwise. from every decision or order of a Revenue Officer under this Act or the rules made thereunder, an appeal shall lie as if such decision or order has been passed by such officer under the Central Provinces Land Revenue Act, 1917, or the Berar Land Revenue Code, 1928, as the case may be.The Central Provinces Land Revenue Act, 19l7.Section 45. (1) A Record of Right for each mahal or estate shall be prepared or revised, as the case may be, by the Settlement Officer at settlement and for such mahals or estates as the Provincial Government may direct, by a Revenue Officer empowered by the Provincial Government in that behalf during the currency of a settlement.(2) The Record of Rights of a mahal shall consist of the following documents:-(a) Khewat or statement of persons possessing proprietary rights in the mahal, including inferior proprietors or lessees or mortgagees in possession, specifying the nature and extent of the interest of each;(b) Khasra or field-book, in which shall be entered the names of all persons cultivating or occupying land, the right in which it is held, and the rent, if any, payable;(c) Jamabandi or list of persons cultivating or occupying land in the village;* * * *(4) The documents specified in sub-s. (2) shall be prepared in such form and shall contain such additional particulars as may be prescribed by rules made under S. 227.Section 46. On the implication of any person interested therein or of his own motion, the Deputy Commissioner may without prejudice to other provisions of this Act, modify any entry in the Record of Rights on one or more of the following grounds:-(a) that all persons interested in such entry wish to have it modified or(b) that by a decree in a civil suit it has been declared to be erroneous, or(c) that, being founded on a decree or order of a Civil Court or on the order of a Revenue Officer. it is not in accordance With such decree or order; or* * * *Section 47. (1) The Deputy Commissioner shall cause to be prepared, in accordance with rules made under S. 227, for each Mahal, annually or at such longer intervals as may be prescribed, an amended set of the documents mentioned in S. 45, sub-s. (2), Cls. (b), (c) and (d), and the documents so prepared shall be called the \"annual papers\".(2) The Deputy Commissioner shall cause to be recorded, in accordance with rules made under S. 227, all charges that have taken place in respect of, and all transactions that have affected, any of the proprietary rights and interests in any land.* * * *8. The scheme of Act so far as it is relevant to the present enquiry may be summarized thus: On the issue of a notification by the State Government under S. 3 of the Act in respect of an estate, all proprietary rights in such estate vest in the State. The Compensation Officer, on a claim made by the proprietor, after making the enquiry prescribed under the said Act, decides the amount of compensation due to him and the details of the land that vests in the State. But the Act saves some interests in the proprietor from its total operation: one of such is lands in the Central Provinces brought under cultivation by the proprietor after the agricultural year 1948-49, but before the date of the vesting: (see S. 4 (2) of the Act).9. Under S. 40 (1) of the Act, such a land shall be held by him in the rights of an occupancy tenant; under sub-s. (2) thereof he becomes a tenant of the State, and under sub-s. (3) the Deputy Commissioner shall determine the rent on the land and it shall be payable from the date of the vesting of the proprietary rights. Section 84 confers a right of appeal on an aggrieved party against the order of the Deputy Commissioner to the prescribed authority. There is no provision in the Act which authorizes the Deputy Commissioner to review an order made by him under the said subsection and, therefore, an order made by him, subject to appeal, becomes final. It is therefore, manifest that the order made by the Deputy Commissioner in respect of lands in question determining the rent on the basis that the proprietor was an occupancy tenant had become final. If so, the Nistar Officer, i.e., the second appellant, had no jurisdiction to initiate proceedings for reopening the order made in respect of Mouza Sonpairi or in making the order reviewing the earlier order made by him in respect of Mouza Kachna, for the said orders had become final and there is no provision under the Act for reviewing them. But the learned counsel for the appellants contends that S. 15 (3) of the Act confers such a power. Under S. 15 (3) of the Act, the authority concerned can review an order made by him under S. IS of the Act. Section 13 of the Act deals with an order made by the Compensation Officer deciding the amount of compensation due to the claimant and recording in a statement in the prescribed form the details of the land which shall vest in the State. Neither S. 13 nor S. 15(3) has any relevance in the context of an order made by the Deputy Commissioner under S. 40 of the Act.10. This conclusion would be sufficient to dispose of the appeals. But, as an argument was made on the construction of Section 47 (1) of the Land Revenue Act and as the same was considered by the High Court, we shall also deal with it.11. The argument based upon the said provision is relevant more to the nature of the evidence available to the Deputy Commissioner to come to a decision under S. 40 of the Act than to the validity or the finality of the order made by him thereunder. The question that a Deputy Commissioner has to decide by necessary implication uncle S. 40 of the Act is whether the proprietor has cultivated the land after the agricultural year 1948-49 and before the vesting of the estate in the State. One of the most important pieces of evidence that will be available to him is the annual papers prepared under S. 47 of the Land Revenue Act. It is not disputed that in the annual papers prepared earlier it was shown that the proprietor was cultivating the lands in question after 1948-49. But it is said that under S. 47 (1), the Deputy Commissioner can correct the said entry in the year 1952 and 1954 as he purports to do, so as to make the entry to the effect that between 1949 and the date of the investigation the proprietor was not in cultivation of the land. This argument, if we may say so, is contrary to the scope and tenor of the relevant provisions of the Land Revenue Act and the rules made thereunder. Under Ss. 45, 46 and 47, the provisions whereof we have extracted earlier, the procedure prescribed is as follows: A Record of Rights shall consist of Khewat, Khasra Jamabandi and other papers; and they are prepared in the manner prescribed by the rules made under S. 227. On the application of any person interested therein or of his own motion, the Deputy Commissioner may modify any entry in the Record of Rights on specified grounds, namely, that all persons interested in such entry wish to have it modified, that by decree in a civil suit it has been declared to be erroneous, that, being founded on a decree or order of a civil Court or on the order of a Revenue Officer, it is not in accordance with such decree or order, and that being so founded, such decree or order has subsequently been varied on appeal, revision or review.It will be seen that a mistake in a Khasra or Jamabandi of an earlier year in regard to the factum of cultivation by a particular person is not a ground for modification under S. 46 of the Land Revenue Act. Section 47 empowers the Deputy Commissioner to cause to be prepared annually or at such longer intervals as may prescribed, an amended set of the documents mentioned in Cls. (b), (c) and (d) of sub-s. (2) of S. 45 of the Land Revenue Act, and the documents so prepared shall be called the \"annual papers\". The rules made under S. 227 of the Land Revenue Act are found in Chap. III of the Central Provinces Land Records Manual Vol. 1, pp. 13-16. The rules relevant to the preparation of Khasra and Jamabandi direct the Patwari to record such changes annually as he finds to have taken place after local enquiry and actual inspection. It is, therefore, clear that a Record of Rights consists of Khewat, Khasra, Jamabandi, etc., and till it is revised again it will hold the field. The entries therein can be modified only for the grounds mentioned in S. 46 of the Land Revenue Act. The provisions of S. 47 if contrasted with those of S. 46, make it clear that the said section intends to bring the said documents up-to-date by recording the subsequent changes based on supervening events. The scope of the annual papers is only to record the existing facts on the basis of spot inspection at the beginning of a fasli and to record changes occurring during the course of the year after the year is closed. It is not the province of the annual papers to investigate and decide on the correctness or otherwise of the entries made in the earlier annual papers as on the date they were made.12. The said section came under judicial scrutiny of a Division Bench of the Nagpur High Court in Mangloo v. Board of Revenue, ILR (1954) Nag 141 (146). The facts in that case were that on the death of one Gaindoo who was a tenant of mouza Matia, on an application made by his nephew and his widow, their names were entered in the annual papers as joint tenants of the land by the Assistant Superintendent of Land Records, thereafter, the widow applied to the Superintendent of Land Records for striking off the petitioners name from the annual papers and her application was allowed; in appeal, the Additional Deputy Commissioner declined to interfere on the ground that the initial order of the Assistant Superintendent of Land Records was passed by him in his executive capacity and as such the Superintendent of Land Records was competent to modify it in his own executive capacity; the second appeal preferred to the Board of Revenue was summarily rejected, and it was contended before the High Court that the decision of the Board of Revenue contravened the provisions of S. 47 (1), read with S. 33 (2) (c) of the Central Provinces Land Revenue Act, 1917. In that context, the learned Judges of the High Court considered the scope of S. 47 (1) of Land Revenue Act and the rules made under S. 227 of the said Act, and observed thus:\"As we read S. 47 (1) of the Act and the rules governing it, we are of opinion that these provisions deal only with the preparation of the annual papers and not with their correction if the entries are found to be erroneous. They are only enabling provisions which import no restriction on the power of the Revenue Officers to correct the mistakes or remove any irregularities, committed in the preparation of annual paper. Neither the annual papers nor the corrected entries affect any questions of title or vested interest of any party. The power of the Revenue Officers in this regard is analogous to the untrammelled right of a person to correct his private documents, which cannot be questioned in a Court of law by anyone whose right or interest is not affected thereby.\"The learned counsel contends that the said passage comprises conflicting ideas inconsistent with each other-the first part of it denying a right to correct the entries and the second part permitting such corrections. We cannot accept this interpretation of the passage. The learned Judges were dealing with two aspects of the question: one is the scope of the preparation of the annual papers and the other is whether correction of mistakes therein give a cause of action to the person aggrieved. The first they answered by stating that S. 47 (1) of the Land Revenue Act and the rules made under the said Act deal only with the preparation of the annual papers and not with their corrections if the entries ale found to be erroneous and the other with the right of a party affected by the correction of the mistakes therein. The observations made in regard to the scope of S. 47 (1) are made clear by the discussion found earlier in the judgment at p. 145. After adverting to the provisions of S. 47 and the rules made under the Act governing the preparation of annual papers the learned Judges observed:\"This could normally be clone in the beginning of the agricultural year which, under S. 2 (1) of the Act, commences on the first day of June. No changes in the entries are contemplated during the course of the agricultural year and the changes taking place during that period are obviously to be recorded after the year is closed. The action taken by the Superintendent of Land Records and ratified by the Additional Deputy Commissioner has, therefore, no reference to the preparation of the annual papers under S. 47 (1) of the Act, and we are not shown any other provision of law which governs it.\"The Division Bench held that there was no provision for correcting the wrong entries made in the annual papers, for their scope is very limited. This view was followed by the Full Bench of the High Court in their judgment which is now under appeal. The Full Bench confirmed the view of the Division Bench in the following words:\".......Section 47 (1) of the Central Provinces Land Revenue Act contemplates entering only such changes in the annual papers as take place during the course of the agricultural year. That section, therefore, does not cover a case of correction of the entries on the ground of mistake.\"We entirely agree with this view. It follows that the Nistar Officer, has no jurisdiction to correct the said entries with a view to reopen the matter already closed under S. 40 of the Act. We, therefore agree with the conclusion arrived at by the High Court.'"
      ]
     },
     "execution_count": 5,
     "metadata": {},
     "output_type": "execute_result"
    }
   ],
   "source": [
    "df2[\"Input\"][0]"
   ]
  },
  {
   "cell_type": "code",
   "execution_count": 18,
   "metadata": {},
   "outputs": [
    {
     "data": {
      "text/plain": [
       "np.int64(1)"
      ]
     },
     "execution_count": 18,
     "metadata": {},
     "output_type": "execute_result"
    }
   ],
   "source": [
    "df2[\"Label\"][78]"
   ]
  },
  {
   "cell_type": "code",
   "execution_count": 9,
   "metadata": {},
   "outputs": [
    {
     "name": "stderr",
     "output_type": "stream",
     "text": [
      "c:\\Users\\Ayush\\OneDrive\\Documents\\ml\\nlp-proj\\legal_pred_env_new\\Lib\\site-packages\\tqdm\\auto.py:21: TqdmWarning: IProgress not found. Please update jupyter and ipywidgets. See https://ipywidgets.readthedocs.io/en/stable/user_install.html\n",
      "  from .autonotebook import tqdm as notebook_tqdm\n"
     ]
    }
   ],
   "source": [
    "from transformers import AutoTokenizer, AutoModelForSequenceClassification, pipeline\n",
    "import torch\n",
    "import spacy\n",
    "import re\n",
    "from collections import Counter"
   ]
  },
  {
   "cell_type": "code",
   "execution_count": 22,
   "metadata": {},
   "outputs": [
    {
     "name": "stderr",
     "output_type": "stream",
     "text": [
      "c:\\Users\\Ayush\\OneDrive\\Documents\\ml\\nlp-proj\\legal_pred_env_new\\Lib\\site-packages\\transformers\\modeling_utils.py:460: FutureWarning: You are using `torch.load` with `weights_only=False` (the current default value), which uses the default pickle module implicitly. It is possible to construct malicious pickle data which will execute arbitrary code during unpickling (See https://github.com/pytorch/pytorch/blob/main/SECURITY.md#untrusted-models for more details). In a future release, the default value for `weights_only` will be flipped to `True`. This limits the functions that could be executed during unpickling. Arbitrary objects will no longer be allowed to be loaded via this mode unless they are explicitly allowlisted by the user via `torch.serialization.add_safe_globals`. We recommend you start setting `weights_only=True` for any use case where you don't have full control of the loaded file. Please open an issue on GitHub for any issues related to this experimental feature.\n",
      "  return torch.load(checkpoint_file, map_location=\"cpu\")\n"
     ]
    }
   ],
   "source": [
    "# Load models and NLP tools\n",
    "MODEL_PATH = \"saved_models/legal/best_model\"\n",
    "model = AutoModelForSequenceClassification.from_pretrained(MODEL_PATH)\n",
    "tokenizer = AutoTokenizer.from_pretrained(MODEL_PATH)\n",
    "nlp = spacy.load(\"en_core_web_sm\")\n",
    "\n",
    "device = torch.device(\"cuda\" if torch.cuda.is_available() else \"cpu\")\n",
    "model = model.to(device)\n",
    "model.eval()\n",
    "\n",
    "def extract_key_points(text):\n",
    "    \"\"\"Extract key legal points from the text.\"\"\"\n",
    "    doc = nlp(text)\n",
    "    \n",
    "    # Extract sentences with legal keywords\n",
    "    legal_keywords = {\n",
    "        'jurisdiction', 'provision', 'section', 'act', 'order',\n",
    "        'appeal', 'review', 'authority', 'court', 'power'\n",
    "    }\n",
    "    \n",
    "    key_sentences = []\n",
    "    for sent in doc.sents:\n",
    "        words = set(token.text.lower() for token in sent)\n",
    "        if any(keyword in words for keyword in legal_keywords):\n",
    "            key_sentences.append(sent.text)\n",
    "    \n",
    "    return key_sentences\n",
    "\n",
    "def analyze_sections_cited(text):\n",
    "    \"\"\"Extract and analyze sections cited in the text.\"\"\"\n",
    "    section_pattern = r'(?:Section|S\\.)\\s*(\\d+(?:\\(\\d+\\))?(?:\\s*of\\s*the\\s*[A-Za-z\\s]+)?)'\n",
    "    sections = re.findall(section_pattern, text)\n",
    "    return Counter(sections)\n",
    "\n",
    "def generate_explanation(text, prediction, confidence):\n",
    "    \"\"\"Generate a detailed explanation for the prediction.\"\"\"\n",
    "    key_points = extract_key_points(text)\n",
    "    sections = analyze_sections_cited(text)\n",
    "    \n",
    "    explanation = {\n",
    "        \"decision\": \"Favorable\" if prediction == 1 else \"Unfavorable\",\n",
    "        \"confidence\": f\"{confidence:.2%}\",\n",
    "        \"key_points\": key_points[:3],  # Top 3 key points\n",
    "        \"sections_cited\": dict(sections.most_common(3)),  # Top 3 most cited sections\n",
    "        \"reasoning\": []\n",
    "    }\n",
    "    \n",
    "    # Add reasoning based on key legal indicators\n",
    "    if \"jurisdiction\" in text.lower():\n",
    "        explanation[\"reasoning\"].append(\"Jurisdictional aspects were considered\")\n",
    "    if \"final\" in text.lower():\n",
    "        explanation[\"reasoning\"].append(\"Finality of orders was discussed\")\n",
    "    if \"power\" in text.lower():\n",
    "        explanation[\"reasoning\"].append(\"Authority/power considerations were present\")\n",
    "    \n",
    "    return explanation\n",
    "\n",
    "def predict_text(text):\n",
    "    # Tokenize and prepare input\n",
    "    text= str(text)\n",
    "    inputs = tokenizer(text, return_tensors=\"pt\", truncation=True, max_length=512, padding=True)\n",
    "    inputs = {k: v.to(device) for k, v in inputs.items()}\n",
    "    \n",
    "    # Make prediction\n",
    "    with torch.no_grad():\n",
    "        outputs = model(**inputs)\n",
    "        predictions = torch.softmax(outputs.logits, dim=1)\n",
    "        predicted_class = torch.argmax(predictions, dim=1).item()\n",
    "        confidence = predictions[0][predicted_class].item()\n",
    "    \n",
    "    # Generate detailed explanation\n",
    "    explanation = generate_explanation(text, predicted_class, confidence)\n",
    "    \n",
    "    return {\n",
    "        \"prediction\": predicted_class,\n",
    "        \"prediction_text\": explanation[\"decision\"],\n",
    "        \"confidence\": confidence,\n",
    "        \"explanation\": explanation\n",
    "    }\n"
   ]
  },
  {
   "cell_type": "code",
   "execution_count": 25,
   "metadata": {},
   "outputs": [],
   "source": [
    "import pandas as pd\n",
    "from sklearn.metrics import accuracy_score, precision_recall_fscore_support\n",
    "\n",
    "def evaluate_model(dataset_path):\n",
    "    # Load the dataset\n",
    "    df = pd.read_csv(dataset_path)\n",
    "    df= df.head(100)\n",
    "    \n",
    "    true_labels = []\n",
    "    predicted_labels = []\n",
    "    confidences = []\n",
    "    \n",
    "    for _, row in df.iterrows():\n",
    "        text = row['Input']\n",
    "        true_label = row['Label']\n",
    "        \n",
    "        # Predict\n",
    "        prediction = predict_text(text)\n",
    "        predicted_label = prediction[\"prediction\"]\n",
    "        confidence = prediction[\"confidence\"]\n",
    "        \n",
    "        # Store results\n",
    "        true_labels.append(true_label)\n",
    "        predicted_labels.append(predicted_label)\n",
    "        confidences.append(confidence)\n",
    "    \n",
    "    # Calculate metrics\n",
    "    accuracy = accuracy_score(true_labels, predicted_labels)\n",
    "    precision, recall, f1, _ = precision_recall_fscore_support(true_labels, predicted_labels, average='binary')\n",
    "    \n",
    "    return {\n",
    "        \"accuracy\": accuracy,\n",
    "        \"precision\": precision,\n",
    "        \"recall\": recall,\n",
    "        \"f1_score\": f1,\n",
    "        \"average_confidence\": sum(confidences) / len(confidences)\n",
    "    }\n"
   ]
  },
  {
   "cell_type": "code",
   "execution_count": 29,
   "metadata": {},
   "outputs": [
    {
     "name": "stdout",
     "output_type": "stream",
     "text": [
      " Metrics on test set: {'accuracy': 0.64, 'precision': np.float64(0.64), 'recall': np.float64(1.0), 'f1_score': np.float64(0.6111111111111112), 'average_confidence': 0.6196530783176422}\n"
     ]
    }
   ],
   "source": [
    "dataset_path = \"datasets/test.csv\"\n",
    "metrics = evaluate_model(dataset_path)\n",
    "print(f\"Metrics on test set: {metrics}\")"
   ]
  },
  {
   "cell_type": "code",
   "execution_count": 2,
   "metadata": {},
   "outputs": [
    {
     "name": "stderr",
     "output_type": "stream",
     "text": [
      "C:\\Users\\Ayush\\AppData\\Local\\Temp\\ipykernel_12072\\1829138546.py:21: FutureWarning: \n",
      "\n",
      "Passing `palette` without assigning `hue` is deprecated and will be removed in v0.14.0. Assign the `x` variable to `hue` and set `legend=False` for the same effect.\n",
      "\n",
      "  sns.barplot(x=metric_names, y=metric_values, palette=\"viridis\")\n"
     ]
    },
    {
     "data": {
      "image/png": "[encoded data removed]",
      "text/plain": [
       "<Figure size 800x500 with 1 Axes>"
      ]
     },
     "metadata": {},
     "output_type": "display_data"
    }
   ],
   "source": [
    "import seaborn as sns\n",
    "import matplotlib.pyplot as plt\n",
    "import numpy as np\n",
    "\n",
    "# Metrics data\n",
    "metrics = {\n",
    "    'accuracy': 0.64,\n",
    "    'precision': np.float64(0.64),\n",
    "    'recall': np.float64(1.0),\n",
    "    'f1_score': np.float64(0.6111111111111112),\n",
    "    'average_confidence': 0.6196530783176422\n",
    "}\n",
    "\n",
    "# Convert metrics to a format suitable for plotting\n",
    "metric_names = list(metrics.keys())\n",
    "metric_values = list(metrics.values())\n",
    "\n",
    "# Create a bar plot\n",
    "sns.set(style=\"whitegrid\")\n",
    "plt.figure(figsize=(8, 5))\n",
    "sns.barplot(x=metric_names, y=metric_values, palette=\"viridis\")\n",
    "\n",
    "# Add values above bars\n",
    "for i, v in enumerate(metric_values):\n",
    "    plt.text(i, v + 0.02, f\"{v:.2f}\", ha='center', fontsize=10)\n",
    "\n",
    "# Customize the plot\n",
    "plt.title(\"Evaluation Metrics on Test Set\", fontsize=14)\n",
    "plt.ylabel(\"Score\", fontsize=12)\n",
    "plt.xlabel(\"Metrics\", fontsize=12)\n",
    "plt.ylim(0, 1.2)  # Adjust y-axis for visibility\n",
    "plt.show()\n"
   ]
  },
  {
   "cell_type": "code",
   "execution_count": 3,
   "metadata": {},
   "outputs": [
    {
     "name": "stderr",
     "output_type": "stream",
     "text": [
      "C:\\Users\\Ayush\\AppData\\Local\\Temp\\ipykernel_12072\\1909109342.py:18: FutureWarning: \n",
      "\n",
      "Passing `palette` without assigning `hue` is deprecated and will be removed in v0.14.0. Assign the `x` variable to `hue` and set `legend=False` for the same effect.\n",
      "\n",
      "  sns.barplot(x=metric_names, y=metric_values, palette=\"viridis\")\n"
     ]
    },
    {
     "data": {
      "image/png": "[encoded data removed]",
      "text/plain": [
       "<Figure size 800x500 with 1 Axes>"
      ]
     },
     "metadata": {},
     "output_type": "display_data"
    }
   ],
   "source": [
    "metrics = {\n",
    "    'validation_loss': 0.6921,\n",
    "    'validation_accuracy': 0.5400,\n",
    "    'validation_f1': 0.3787\n",
    "}\n",
    "\n",
    "# Convert metrics to a format suitable for plotting\n",
    "metric_names = list(metrics.keys())\n",
    "metric_values = list(metrics.values())\n",
    "\n",
    "# Create a bar plot\n",
    "sns.set(style=\"whitegrid\")\n",
    "plt.figure(figsize=(8, 5))\n",
    "sns.barplot(x=metric_names, y=metric_values, palette=\"viridis\")\n",
    "\n",
    "# Add values above bars\n",
    "for i, v in enumerate(metric_values):\n",
    "    plt.text(i, v + 0.02, f\"{v:.2f}\", ha='center', fontsize=10)\n",
    "\n",
    "# Customize the plot\n",
    "plt.title(\"Evaluation Metrics on Test Set\", fontsize=14)\n",
    "plt.ylabel(\"Score\", fontsize=12)\n",
    "plt.xlabel(\"Metrics\", fontsize=12)\n",
    "plt.ylim(0, 1.2)  # Adjust y-axis for visibility\n",
    "plt.show()"
   ]
  },
  {
   "cell_type": "code",
   "execution_count": 5,
   "metadata": {},
   "outputs": [
    {
     "data": {
      "image/png": "[encoded data removed]",
      "text/plain": [
       "<Figure size 800x600 with 1 Axes>"
      ]
     },
     "metadata": {},
     "output_type": "display_data"
    }
   ],
   "source": [
    "import matplotlib.pyplot as plt\n",
    "\n",
    "# Example data for epochs\n",
    "epochs = [0, 1]\n",
    "precision_class_1 = [0.50, 0.59]  # Change these values based on actual data\n",
    "recall_class_1 = [0.90, 1.00]  # Example recall values\n",
    "f1_class_1 = [0.70, 0.74]  # Example F1-score values\n",
    "\n",
    "# Plotting the line graph\n",
    "plt.figure(figsize=(8, 6))\n",
    "\n",
    "# Line for Precision\n",
    "plt.plot(epochs, precision_class_1, label=\"Precision (Class 1)\", marker='o', color='blue')\n",
    "\n",
    "# Line for Recall\n",
    "plt.plot(epochs, recall_class_1, label=\"Recall (Class 1)\", marker='o', color='green')\n",
    "\n",
    "# Line for F1-Score\n",
    "plt.plot(epochs, f1_class_1, label=\"F1-Score (Class 1)\", marker='o', color='orange')\n",
    "\n",
    "# Labels, title, and legend\n",
    "plt.xlabel(\"Epoch\")\n",
    "plt.ylabel(\"Score\")\n",
    "plt.title(\"Metric Scores Over Epochs\")\n",
    "plt.xticks(epochs)  # Ensures only epochs 0 and 1 are shown\n",
    "plt.legend()\n",
    "\n",
    "# Display the plot\n",
    "plt.grid(True)\n",
    "plt.tight_layout()\n",
    "plt.show()\n"
   ]
  },
  {
   "cell_type": "code",
   "execution_count": null,
   "metadata": {},
   "outputs": [],
   "source": []
  }
 ],
 "metadata": {
  "kernelspec": {
   "display_name": "legal_pred_env_new",
   "language": "python",
   "name": "python3"
  },
  "language_info": {
   "codemirror_mode": {
    "name": "ipython",
    "version": 3
   },
   "file_extension": ".py",
   "mimetype": "text/x-python",
   "name": "python",
   "nbconvert_exporter": "python",
   "pygments_lexer": "ipython3",
   "version": "3.11.9"
  }
 },
 "nbformat": 4,
 "nbformat_minor": 2
}
