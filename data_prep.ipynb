{
 "cells": [
  {
   "cell_type": "code",
   "execution_count": 2,
   "metadata": {},
   "outputs": [],
   "source": [
    "import pandas as pd\n",
    "from tqdm import tqdm     "
   ]
  },
  {
   "cell_type": "code",
   "execution_count": 3,
   "metadata": {},
   "outputs": [
    {
     "name": "stdout",
     "output_type": "stream",
     "text": [
      "<class 'pandas.core.frame.DataFrame'>\n",
      "RangeIndex: 12178 entries, 0 to 12177\n",
      "Data columns (total 6 columns):\n",
      " #   Column          Non-Null Count  Dtype \n",
      "---  ------          --------------  ----- \n",
      " 0   Case Name       12178 non-null  object\n",
      " 1   Input           12178 non-null  object\n",
      " 2   Output          12178 non-null  object\n",
      " 3   Label           12178 non-null  int64 \n",
      " 4   Count           12178 non-null  int64 \n",
      " 5   Decision_Count  12178 non-null  int64 \n",
      "dtypes: int64(3), object(3)\n",
      "memory usage: 571.0+ KB\n"
     ]
    }
   ],
   "source": [
    "df = pd.read_csv(\"train.csv\")\n",
    "df.columns\n",
    "df.info()"
   ]
  },
  {
   "cell_type": "code",
   "execution_count": 4,
   "metadata": {},
   "outputs": [],
   "source": [
    "def preprocess_case(text):\n",
    "  max_tokens = 1000\n",
    "  tokens = text.split(' ')\n",
    "  num_tokens_to_extract = min(max_tokens, len(tokens))\n",
    "  text1 = ' '.join(tokens[-num_tokens_to_extract:len(tokens)])\n",
    "  return text1\n",
    "     \n",
    "\n",
    "for i,row in df.iterrows():\n",
    "  input = row['Input']\n",
    "  input = preprocess_case(input)\n",
    "  df.at[i,'Input'] = input"
   ]
  },
  {
   "cell_type": "code",
   "execution_count": 5,
   "metadata": {},
   "outputs": [],
   "source": [
    "def format_instruction(sample, inst):\n",
    "\treturn f\"\"\"### Instruction:\n",
    "{inst}\n",
    "\n",
    "### Input:\n",
    "{sample['Input']}\n",
    "\n",
    "### Response:\n",
    "{sample['Output'].split('[ds]')[0]}\n",
    "\n",
    "### Explanation:\n",
    "{preprocess_case(sample['Output'].split('[ds]')[1])}\n",
    "\"\"\"\n",
    "#prediction\n",
    "\n",
    "# def format_instruction(sample, inst):\n",
    "# \treturn f\"\"\"### Instruction:\n",
    "# {inst}\n",
    "\n",
    "# ### Input:\n",
    "# {sample['Input']}\n",
    "\n",
    "# ### Response:\n",
    "# {sample['Output'].split('[ds]')[0]}\n",
    "# \"\"\""
   ]
  },
  {
   "cell_type": "code",
   "execution_count": 6,
   "metadata": {},
   "outputs": [
    {
     "name": "stderr",
     "output_type": "stream",
     "text": [
      "12178it [00:03, 3898.90it/s]\n"
     ]
    }
   ],
   "source": [
    "df_ins = pd.read_csv(\"instruction_decision.csv\")\n",
    "     \n",
    "\n",
    "import random\n",
    "random.seed(15)\n",
    "text = []\n",
    "for i,row in tqdm(df.iterrows()):\n",
    "  random_index = random.randint(0, len(df_ins) - 1)\n",
    "  t = format_instruction(df.iloc[i],df_ins['Instructions_Exp'][random_index])\n",
    "  #t = format_instruction(df.iloc[i],df_ins['Instructions'][random_index])\n",
    "  text.append(t)"
   ]
  },
  {
   "cell_type": "code",
   "execution_count": 7,
   "metadata": {},
   "outputs": [],
   "source": [
    "df.loc[:, \"text\"] = text\n",
    "     \n",
    "\n",
    "# Set a random state for reproducibility\n",
    "random_state = 42\n",
    "\n",
    "# Calculate the number of rows for validation set (10%)\n",
    "val_size = int(0.1 * len(df))\n",
    "\n",
    "df_val = df.sample(n=val_size, random_state=random_state)\n",
    "\n",
    "df_train = df.drop(df_val.index)\n",
    "\n",
    "df_train.reset_index(drop=True, inplace=True)\n",
    "df_val.reset_index(drop=True, inplace=True)\n",
    "     \n",
    "\n",
    "df_train.to_csv(\"train_ft.csv\",index=False)\n",
    "df_val.to_csv(\"val_ft.csv\",index=False)"
   ]
  },
  {
   "cell_type": "code",
   "execution_count": null,
   "metadata": {},
   "outputs": [],
   "source": []
  }
 ],
 "metadata": {
  "kernelspec": {
   "display_name": "gpu",
   "language": "python",
   "name": "python3"
  },
  "language_info": {
   "codemirror_mode": {
    "name": "ipython",
    "version": 3
   },
   "file_extension": ".py",
   "mimetype": "text/x-python",
   "name": "python",
   "nbconvert_exporter": "python",
   "pygments_lexer": "ipython3",
   "version": "3.12.2"
  }
 },
 "nbformat": 4,
 "nbformat_minor": 2
}
